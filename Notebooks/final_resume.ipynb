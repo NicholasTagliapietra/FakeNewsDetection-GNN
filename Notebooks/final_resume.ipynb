{
 "cells": [
  {
   "cell_type": "markdown",
   "id": "1fa37b66",
   "metadata": {},
   "source": [
    "<center>\n",
    "<h1>Fake news detection using graph neural network</h1>\n",
    "<h2>Final resume</h2>\n",
    "<i><h6>Victor GOUBET | Nicholas Tagliapietra | Asma Bakhtiariazad</h6></i>\n",
    "</center>\n",
    "\n",
    "\n",
    "----"
   ]
  },
  {
   "cell_type": "markdown",
   "id": "0f157f82",
   "metadata": {},
   "source": [
    "# Library"
   ]
  },
  {
   "cell_type": "code",
   "execution_count": 5,
   "id": "bbbd30df",
   "metadata": {},
   "outputs": [],
   "source": [
    "import os\n",
    "import torch\n",
    "from tool_box.models import Basic_GNN, GAT, SAGE"
   ]
  },
  {
   "cell_type": "markdown",
   "id": "69e2c29c",
   "metadata": {},
   "source": [
    "# Import models"
   ]
  },
  {
   "cell_type": "code",
   "execution_count": 8,
   "id": "51737488",
   "metadata": {},
   "outputs": [],
   "source": [
    "models = {}\n",
    "for root, _, files in os.walk(\"../models\", topdown=False):\n",
    "    for model in files:\n",
    "        path = f'{root}/{model}'.replace(\"\\\\\", \"/\")\n",
    "        models[model] = torch.load(path)"
   ]
  },
  {
   "cell_type": "markdown",
   "id": "ba8f88a7",
   "metadata": {},
   "source": [
    "# Final results"
   ]
  },
  {
   "cell_type": "code",
   "execution_count": null,
   "id": "61dc8a0d",
   "metadata": {},
   "outputs": [],
   "source": []
  }
 ],
 "metadata": {
  "kernelspec": {
   "display_name": "Python 3 (ipykernel)",
   "language": "python",
   "name": "python3"
  },
  "language_info": {
   "codemirror_mode": {
    "name": "ipython",
    "version": 3
   },
   "file_extension": ".py",
   "mimetype": "text/x-python",
   "name": "python",
   "nbconvert_exporter": "python",
   "pygments_lexer": "ipython3",
   "version": "3.9.1"
  }
 },
 "nbformat": 4,
 "nbformat_minor": 5
}
