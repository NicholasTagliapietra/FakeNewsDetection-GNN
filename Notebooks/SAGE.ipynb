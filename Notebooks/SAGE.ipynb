{
 "cells": [
  {
   "cell_type": "markdown",
   "id": "a90123ef",
   "metadata": {},
   "source": [
    "<center>\n",
    "<h1>Fake news detection using graph neural network</h1>\n",
    "<h2>SAGE GNN</h2>\n",
    "<i><h6>Victor GOUBET | Nicholas Tagliapietra | Asma Bakhtiariazad</h6></i>\n",
    "</center>\n",
    "\n",
    "\n",
    "----"
   ]
  },
  {
   "cell_type": "markdown",
   "id": "d3744b2f",
   "metadata": {},
   "source": [
    "# Library"
   ]
  },
  {
   "cell_type": "code",
   "execution_count": null,
   "id": "292500a9",
   "metadata": {},
   "outputs": [],
   "source": [
    "import torch\n",
    "import pickle as pk\n",
    "\n",
    "from tqdm.notebook import tqdm\n",
    "from torch.nn import Linear, LogSoftmax\n",
    "from torch_geometric.loader import DataLoader\n",
    "from tool_box import plot_hist, ext_UPFD, get_acc\n",
    "from torch_geometric.nn import GCNConv, global_mean_pool, global_max_pool"
   ]
  },
  {
   "cell_type": "markdown",
   "id": "0ccb554c",
   "metadata": {},
   "source": [
    "# Import datasets"
   ]
  },
  {
   "cell_type": "code",
   "execution_count": null,
   "id": "7bcc268b",
   "metadata": {},
   "outputs": [],
   "source": [
    "datasets = pk.load(open('../data/datasets.pkl', 'rb'))"
   ]
  },
  {
   "cell_type": "markdown",
   "id": "593acc69",
   "metadata": {
    "id": "ewrIcKbgwzwD"
   },
   "source": [
    "# Define the model"
   ]
  },
  {
   "cell_type": "code",
   "execution_count": null,
   "id": "d91d80b7",
   "metadata": {
    "id": "cX7p2iwsw287"
   },
   "outputs": [],
   "source": [
    "class SAGE(nn.Module):\n",
    "    def __init__(self, num_n_feature, num_g_feature, emb_size):\n",
    "    \n",
    "        super(SAGE, self).__init__()\n",
    "        torch.manual_seed(42)\n",
    "        \n",
    "        self.in_layer = SAGEConv(num_n_feature, hidden_channels)\n",
    "        self.conv1 = SAGEConv(num_n_feature, emb_size)\n",
    "        self.conv2 = SAGEConv(emb_size, emb_size)\n",
    "        self.conv3 = SAGEConv(emb_size, emb_size)\n",
    "        self.conv4 = SAGEConv(emb_size, emb_size)\n",
    "        \n",
    "        i = 2\n",
    "        if num_g_feature:\n",
    "             self.lin_g = Linear(num_g_feature, emb_size)\n",
    "             i = 3\n",
    "\n",
    "        self.out_layer = Linear(i * emb_size, 2)\n",
    "        self.act = LogSoftmax(dim=-1)\n",
    "        \n",
    "\n",
    "    def forward(self, x, adjs):\n",
    "        for i, (edge_index, _, size) in enumerate(adjs):\n",
    "            x_target = x[:size[1]]  \n",
    "            x = self.convs[i]((x, x_target), edge_index)\n",
    "            if i != self.num_layers - 1:\n",
    "                x = x.relu()\n",
    "                x = F.dropout(x, p=0.5, training=self.training)\n",
    "        return x\n",
    "    \n",
    "    \n",
    "    def full_forward(self, x, edge_index):\n",
    "        for i, conv in enumerate(self.convs):\n",
    "            x = conv(x, edge_index)\n",
    "            if i != self.num_layers - 1:\n",
    "                x = x.relu()\n",
    "                x "
   ]
  },
  {
   "cell_type": "markdown",
   "id": "e8d5759c",
   "metadata": {},
   "source": [
    "# Training"
   ]
  },
  {
   "cell_type": "markdown",
   "id": "97c26aad",
   "metadata": {},
   "source": [
    "## Define Training"
   ]
  },
  {
   "cell_type": "code",
   "execution_count": null,
   "id": "fb141551",
   "metadata": {},
   "outputs": [],
   "source": []
  },
  {
   "cell_type": "markdown",
   "id": "9a8a01bc",
   "metadata": {},
   "source": [
    "## Train"
   ]
  },
  {
   "cell_type": "code",
   "execution_count": null,
   "id": "8ece87f1",
   "metadata": {},
   "outputs": [],
   "source": []
  }
 ],
 "metadata": {
  "kernelspec": {
   "display_name": "Python 3 (ipykernel)",
   "language": "python",
   "name": "python3"
  },
  "language_info": {
   "codemirror_mode": {
    "name": "ipython",
    "version": 3
   },
   "file_extension": ".py",
   "mimetype": "text/x-python",
   "name": "python",
   "nbconvert_exporter": "python",
   "pygments_lexer": "ipython3",
   "version": "3.9.1"
  }
 },
 "nbformat": 4,
 "nbformat_minor": 5
}
